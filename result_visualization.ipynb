{
 "cells": [
  {
   "cell_type": "code",
   "execution_count": 4,
   "metadata": {},
   "outputs": [],
   "source": [
    "import pandas as pd\n",
    "import matplotlib.pyplot as plt\n",
    "\n",
    "UWR = pd.read_csv(\"files/UWR.csv\", index_col = 0)\n",
    "Conf_Mat= pd.read_csv(\"files/Conf_Mat.csv\", index_col = 0)"
   ]
  },
  {
   "cell_type": "code",
   "execution_count": 5,
   "metadata": {},
   "outputs": [
    {
     "data": {
      "text/html": [
       "<div>\n",
       "<style scoped>\n",
       "    .dataframe tbody tr th:only-of-type {\n",
       "        vertical-align: middle;\n",
       "    }\n",
       "\n",
       "    .dataframe tbody tr th {\n",
       "        vertical-align: top;\n",
       "    }\n",
       "\n",
       "    .dataframe thead th {\n",
       "        text-align: right;\n",
       "    }\n",
       "</style>\n",
       "<table border=\"1\" class=\"dataframe\">\n",
       "  <thead>\n",
       "    <tr style=\"text-align: right;\">\n",
       "      <th></th>\n",
       "      <th>speakers</th>\n",
       "      <th>SVM</th>\n",
       "      <th>RF</th>\n",
       "      <th>ANN</th>\n",
       "    </tr>\n",
       "  </thead>\n",
       "  <tbody>\n",
       "    <tr>\n",
       "      <th>0</th>\n",
       "      <td>1</td>\n",
       "      <td>0.602894</td>\n",
       "      <td>0.592642</td>\n",
       "      <td>0.598158</td>\n",
       "    </tr>\n",
       "    <tr>\n",
       "      <th>1</th>\n",
       "      <td>2</td>\n",
       "      <td>0.657064</td>\n",
       "      <td>0.656234</td>\n",
       "      <td>0.680420</td>\n",
       "    </tr>\n",
       "    <tr>\n",
       "      <th>2</th>\n",
       "      <td>3</td>\n",
       "      <td>0.606681</td>\n",
       "      <td>0.585057</td>\n",
       "      <td>0.635972</td>\n",
       "    </tr>\n",
       "    <tr>\n",
       "      <th>3</th>\n",
       "      <td>4</td>\n",
       "      <td>0.701545</td>\n",
       "      <td>0.685509</td>\n",
       "      <td>0.754903</td>\n",
       "    </tr>\n",
       "    <tr>\n",
       "      <th>4</th>\n",
       "      <td>5</td>\n",
       "      <td>0.650386</td>\n",
       "      <td>0.642478</td>\n",
       "      <td>0.667543</td>\n",
       "    </tr>\n",
       "    <tr>\n",
       "      <th>5</th>\n",
       "      <td>6</td>\n",
       "      <td>0.657559</td>\n",
       "      <td>0.683257</td>\n",
       "      <td>0.634247</td>\n",
       "    </tr>\n",
       "    <tr>\n",
       "      <th>6</th>\n",
       "      <td>7</td>\n",
       "      <td>0.572404</td>\n",
       "      <td>0.588280</td>\n",
       "      <td>0.595962</td>\n",
       "    </tr>\n",
       "    <tr>\n",
       "      <th>7</th>\n",
       "      <td>8</td>\n",
       "      <td>0.579889</td>\n",
       "      <td>0.594383</td>\n",
       "      <td>0.555542</td>\n",
       "    </tr>\n",
       "    <tr>\n",
       "      <th>8</th>\n",
       "      <td>9</td>\n",
       "      <td>0.776505</td>\n",
       "      <td>0.753493</td>\n",
       "      <td>0.791344</td>\n",
       "    </tr>\n",
       "    <tr>\n",
       "      <th>9</th>\n",
       "      <td>10</td>\n",
       "      <td>0.715874</td>\n",
       "      <td>0.692215</td>\n",
       "      <td>0.703746</td>\n",
       "    </tr>\n",
       "  </tbody>\n",
       "</table>\n",
       "</div>"
      ],
      "text/plain": [
       "   speakers       SVM        RF       ANN\n",
       "0         1  0.602894  0.592642  0.598158\n",
       "1         2  0.657064  0.656234  0.680420\n",
       "2         3  0.606681  0.585057  0.635972\n",
       "3         4  0.701545  0.685509  0.754903\n",
       "4         5  0.650386  0.642478  0.667543\n",
       "5         6  0.657559  0.683257  0.634247\n",
       "6         7  0.572404  0.588280  0.595962\n",
       "7         8  0.579889  0.594383  0.555542\n",
       "8         9  0.776505  0.753493  0.791344\n",
       "9        10  0.715874  0.692215  0.703746"
      ]
     },
     "execution_count": 5,
     "metadata": {},
     "output_type": "execute_result"
    }
   ],
   "source": [
    "UWR"
   ]
  },
  {
   "cell_type": "code",
   "execution_count": 28,
   "metadata": {},
   "outputs": [
    {
     "name": "stdout",
     "output_type": "stream",
     "text": [
      "Average Unweighted Recall using Support Vector Machine with RBF kernel is 65.21%, using Random Forest is 64.74% and using Fully-Connected Artificial Neural Network is 66.18%\n"
     ]
    }
   ],
   "source": [
    "UWR_SVM = sum(UWR[\"SVM\"].to_list())/len(UWR)*100\n",
    "UWR_RF = sum(UWR[\"RF\"].to_list())/len(UWR)*100\n",
    "UWR_FC_ANN = sum(UWR[\"ANN\"].to_list())/len(UWR)*100\n",
    "print(\"Average Unweighted Recall using Support Vector Machine with RBF kernel is {0:.2f}%, using Random Forest is {1:.2f}% and using Fully-Connected Artificial Neural Network is {2:.2f}%\".format(UWR_SVM, UWR_RF, UWR_FC_ANN))\n"
   ]
  },
  {
   "cell_type": "code",
   "execution_count": 30,
   "metadata": {},
   "outputs": [
    {
     "data": {
      "image/png": "[encoded data removed]",
      "text/plain": [
       "<matplotlib.figure.Figure at 0x7f2e51d3b588>"
      ]
     },
     "metadata": {},
     "output_type": "display_data"
    }
   ],
   "source": [
    "ax = UWR[[\"SVM\", \"RF\", \"ANN\"]].plot(kind='bar', title =\"ML Algorithm Comparison\", figsize=(15, 10), legend=True, fontsize=12)\n",
    "ax.set_xlabel(\"Speaker\", fontsize=12)\n",
    "ax.set_ylabel(\"performance\", fontsize=12)\n",
    "plt.show()"
   ]
  },
  {
   "cell_type": "markdown",
   "metadata": {},
   "source": [
    "The results show that there is no significantly better model. The overall performance of ANN is better than SVM and RF, but with consideration of cumputational complexity of FC, SVM or RF can be better choice."
   ]
  },
  {
   "cell_type": "markdown",
   "metadata": {},
   "source": [
    "Next, we will analyze the emotion specific performance of SVM. "
   ]
  },
  {
   "cell_type": "code",
   "execution_count": null,
   "metadata": {},
   "outputs": [],
   "source": []
  },
  {
   "cell_type": "code",
   "execution_count": null,
   "metadata": {},
   "outputs": [],
   "source": []
  }
 ],
 "metadata": {
  "kernelspec": {
   "display_name": "Python 3",
   "language": "python",
   "name": "python3"
  },
  "language_info": {
   "codemirror_mode": {
    "name": "ipython",
    "version": 3
   },
   "file_extension": ".py",
   "mimetype": "text/x-python",
   "name": "python",
   "nbconvert_exporter": "python",
   "pygments_lexer": "ipython3",
   "version": "3.6.4"
  }
 },
 "nbformat": 4,
 "nbformat_minor": 2
}
